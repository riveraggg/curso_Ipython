{
 "cells": [
  {
   "cell_type": "markdown",
   "metadata": {
    "collapsed": false,
    "nbpresent": {
     "id": "2520c24d-76b6-4b12-ab8a-3fd5f81ce035"
    }
   },
   "source": [
    "# Pelota que cae\n",
    "\n",
    "Las ecuacuaciones de Newton son:\n",
    "\n",
    "$m \\frac{d^2\\vec r}{dt^2}=-g \\hat k + \\vec f_{fricc} + \\vec f_{ext}$"
   ]
  },
  {
   "cell_type": "code",
   "execution_count": 1,
   "metadata": {
    "collapsed": false,
    "nbpresent": {
     "id": "826a08e0-c0b8-4120-a9ac-69eeca668b4e"
    }
   },
   "outputs": [
    {
     "name": "stderr",
     "output_type": "stream",
     "text": [
      "/home/sumem/anaconda2/lib/python2.7/site-packages/matplotlib/font_manager.py:273: UserWarning: Matplotlib is building the font cache using fc-list. This may take a moment.\n",
      "  warnings.warn('Matplotlib is building the font cache using fc-list. This may take a moment.')\n"
     ]
    }
   ],
   "source": [
    "from pylab import *\n",
    "from scipy.integrate import *\n",
    "%matplotlib inline"
   ]
  },
  {
   "cell_type": "code",
   "execution_count": 17,
   "metadata": {
    "collapsed": false,
    "nbpresent": {
     "id": "66d023ad-c7e0-4642-9e01-7034737cfe6c"
    }
   },
   "outputs": [],
   "source": [
    "#en una funcion se pueden poner argumentos opcionales\n",
    "#para esto se usa el igual\n",
    "def fuerza(v_r,t,gama=0,viento=[0,0],m=1,g=9.8):\n",
    "    #g = 9.8\n",
    "    #m=1.\n",
    "    #gama = 0.1\n",
    "    #v_r = [ry, rz, vy, vz]\n",
    "    dvz = -g/m - (gama/m)*v_r[3]+viento[1]\n",
    "    dvy = 0 - (gama/m)*v_r[2]+viento[0]\n",
    "    drz = v_r[3]\n",
    "    dry = v_r[2]\n",
    "    return [dry,drz,dvy,dvz]"
   ]
  },
  {
   "cell_type": "code",
   "execution_count": 3,
   "metadata": {
    "collapsed": false,
    "nbpresent": {
     "id": "455941a4-d154-4395-b43d-e4cbc334982a"
    }
   },
   "outputs": [
    {
     "data": {
      "image/png": "[encoded data removed]",
      "text/plain": [
       "<matplotlib.figure.Figure at 0x7f04da7883d0>"
      ]
     },
     "metadata": {},
     "output_type": "display_data"
    }
   ],
   "source": [
    "tiempo = linspace(0,1)\n",
    "s_ideal = odeint(fuerza,[0,0,1,5],tiempo)\n",
    "y_id,z_id= s_ideal[:,0],s_ideal[:,1]\n",
    "\n",
    "s_fric = odeint(fuerza,[0,0,1,5],tiempo,args=(0.5,))\n",
    "y_fric,z_fric= s_fric[:,0],s_fric[:,1]\n",
    "\n",
    "s_fric_viento = odeint(fuerza,[0,0,1,5],tiempo,args=(0.5,[-1,0],))\n",
    "y_f_v,z_f_v= s_fric_viento[:,0],s_fric_viento[:,1]\n",
    "\n",
    "\n",
    "plot(y_id,z_id,y_fric,z_fric,y_f_v,z_f_v)\n",
    "xlim([-.5,1.1])\n",
    "ylim([0,1.4])\n",
    "grid(True)\n",
    "show()"
   ]
  },
  {
   "cell_type": "code",
   "execution_count": 18,
   "metadata": {
    "collapsed": true,
    "nbpresent": {
     "id": "3b460bd5-0d3c-43fe-b327-0dbdc654b7db"
    }
   },
   "outputs": [],
   "source": [
    "def pedazo_trayectoria(pto_ini,dt=0.1,param=[0,[0,0],1,9.8]):\n",
    "    tiempo = array([0,dt])\n",
    "    sol = odeint(fuerza,pto_ini,tiempo,args=(param[0],param[1],param[2],param[3],))\n",
    "    return sol  "
   ]
  },
  {
   "cell_type": "code",
   "execution_count": 56,
   "metadata": {
    "collapsed": false,
    "nbpresent": {
     "id": "3e74a8ac-4d28-43ae-90a6-a516b22354e2"
    }
   },
   "outputs": [],
   "source": [
    "def rebote(punto,dt,param):\n",
    "    error =1e-5\n",
    "    dt = dt/2\n",
    "    sol = odeint(fuerza,punto,[0,dt],args=(param[0],param[1],param[2],param[3],))\n",
    "    while abs(sol[:,1][0]-sol[:,1][1])> error:\n",
    "        if sol[:,1][0]*sol[:,1][1]<0:\n",
    "            punto= sol[0]\n",
    "        else:\n",
    "            punto= sol[1]\n",
    "        dt = dt/2\n",
    "        sol = odeint(fuerza,punto,[0,dt],args=(param[0],param[1],param[2],param[3],))\n",
    "        #print sol[0]\n",
    "    return [sol[0][0],sol[0][1],sol[0][2],-sol[0][3]]"
   ]
  },
  {
   "cell_type": "code",
   "execution_count": 57,
   "metadata": {
    "collapsed": true,
    "nbpresent": {
     "id": "0dfe1537-6ae5-45ae-a381-3037acf9a2c0"
    }
   },
   "outputs": [],
   "source": [
    "def trayectoria(pto_ini,t_fin,param=[0,[0,0],1,9.8]):\n",
    "    t_total, dt = [0],0.05\n",
    "    y=[pto_ini[0]]\n",
    "    z=[pto_ini[1]]\n",
    "    t_actual = 0\n",
    "    while t_actual <= t_fin:\n",
    "        t_actual = t_actual + dt\n",
    "        sol = odeint(fuerza,pto_ini,[0,dt],args=(param[0],param[1],param[2],param[3],))\n",
    "        if sol[:,1][0]*sol[:,1][1]<0:\n",
    "            sol = rebote(sol[0],dt,param)\n",
    "            y.append(sol[0])\n",
    "            z.append(sol[1])\n",
    "            pto_ini=sol\n",
    "        else:\n",
    "            y.append(sol[:,0][1])\n",
    "            z.append(sol[:,1][1])\n",
    "            pto_ini=sol[1]\n",
    "    return y,z"
   ]
  },
  {
   "cell_type": "code",
   "execution_count": 74,
   "metadata": {
    "collapsed": false,
    "nbpresent": {
     "id": "04097afb-edda-4af8-bd15-50ae9d3893b3"
    }
   },
   "outputs": [
    {
     "name": "stdout",
     "output_type": "stream",
     "text": [
      "[ 1.          0.09999999  1.         -4.8       ]\n",
      "[ 1.0125      0.03923437  1.         -4.9225    ]\n",
      "[ 1.01875     0.00827734  1.         -4.98375   ]\n",
      "[ 1.01875     0.00827734  1.         -4.98375   ]\n",
      "[  1.02031250e+00   4.78264466e-04   1.00000000e+00  -4.99906250e+00]\n",
      "[  1.02031250e+00   4.78264466e-04   1.00000000e+00  -4.99906250e+00]\n",
      "[  1.02031250e+00   4.78264466e-04   1.00000000e+00  -4.99906250e+00]\n",
      "[  1.02031250e+00   4.78264466e-04   1.00000000e+00  -4.99906250e+00]\n",
      "[  1.02031250e+00   4.78264466e-04   1.00000000e+00  -4.99906250e+00]\n",
      "[  1.02036133e+00   2.34157935e-04   1.00000000e+00  -4.99954102e+00]\n",
      "[  1.02038574e+00   1.12095907e-04   1.00000000e+00  -4.99978027e+00]\n",
      "[  1.02039795e+00   5.10627029e-05   1.00000000e+00  -4.99989990e+00]\n",
      "[  1.02040405e+00   2.05455532e-05   1.00000000e+00  -4.99995972e+00]\n",
      "[  1.02040710e+00   5.28684140e-06   1.00000000e+00  -4.99998962e+00]\n",
      "[ 0.7405852   0.08839593  0.6297074  -4.10919797]\n",
      "[ 0.748432    0.03642712  0.625784   -4.20571356]\n",
      "[ 0.75233704  0.00999125  0.62383148 -4.25374562]\n",
      "[ 0.75233704  0.00999125  0.62383148 -4.25374562]\n",
      "[  7.53311399e-01   3.33540713e-03   6.23344301e-01  -4.26573020e+00]\n",
      "[  7.53798291e-01   4.66144061e-07   6.23100854e-01  -4.27171898e+00]\n",
      "[  7.53798291e-01   4.66144061e-07   6.23100854e-01  -4.27171898e+00]\n",
      "[  7.53798291e-01   4.66144061e-07   6.23100854e-01  -4.27171898e+00]\n",
      "[  7.53798291e-01   4.66144061e-07   6.23100854e-01  -4.27171898e+00]\n",
      "[  7.53798291e-01   4.66144061e-07   6.23100854e-01  -4.27171898e+00]\n",
      "[  7.53798291e-01   4.66144061e-07   6.23100854e-01  -4.27171898e+00]\n",
      "[  7.53798291e-01   4.66144061e-07   6.23100854e-01  -4.27171898e+00]\n",
      "[  7.53798291e-01   4.66144061e-07   6.23100854e-01  -4.27171898e+00]\n",
      "[  7.53798291e-01   4.66144061e-07   6.23100854e-01  -4.27171898e+00]\n",
      "[ 1.16464602  0.06005519  0.41767699 -3.59830838]\n",
      "[ 1.1698507   0.01445259  0.41507465 -3.69800708]\n",
      "[ 1.1698507   0.01445259  0.41507465 -3.69800708]\n",
      "[  1.17114680e+00   2.85751912e-03   4.14426601e-01  -3.72283454e+00]\n",
      "[  1.17114680e+00   2.85751912e-03   4.14426601e-01  -3.72283454e+00]\n",
      "[  1.17114680e+00   2.85751912e-03   4.14426601e-01  -3.72283454e+00]\n",
      "[  1.17130867e+00   1.40268129e-03   4.14345666e-01  -3.72593525e+00]\n",
      "[  1.17138959e+00   6.74808179e-04   4.14305205e-01  -3.72748538e+00]\n",
      "[  1.17143005e+00   3.10758093e-04   4.14284976e-01  -3.72826038e+00]\n",
      "[  1.17145028e+00   1.28704669e-04   4.14274861e-01  -3.72864787e+00]\n",
      "[  1.17146039e+00   3.76708619e-05   4.14269804e-01  -3.72884161e+00]\n",
      "[  1.17146039e+00   3.76708619e-05   4.14269804e-01  -3.72884161e+00]\n",
      "[  1.17146292e+00   1.49116711e-05   4.14268540e-01  -3.72889005e+00]\n",
      "[  1.17146418e+00   3.53196478e-06   4.14267908e-01  -3.72891426e+00]\n",
      "[-0.5503184   0.08839593 -1.9623408  -4.10919797]\n",
      "[-0.57504402  0.03642712 -1.99372799 -4.20571356]\n",
      "[-0.58755366  0.00999125 -2.00934817 -4.25374562]\n",
      "[-0.58755366  0.00999125 -2.00934817 -4.25374562]\n",
      "[ -5.90696311e-01   3.33540713e-03  -2.01324559e+00  -4.26573020e+00]\n",
      "[ -5.92269920e-01   4.66144061e-07  -2.01519317e+00  -4.27171898e+00]\n",
      "[ -5.92269920e-01   4.66144061e-07  -2.01519317e+00  -4.27171898e+00]\n",
      "[ -5.92269920e-01   4.66144061e-07  -2.01519317e+00  -4.27171898e+00]\n",
      "[ -5.92269920e-01   4.66144061e-07  -2.01519317e+00  -4.27171898e+00]\n",
      "[ -5.92269920e-01   4.66144061e-07  -2.01519317e+00  -4.27171898e+00]\n",
      "[ -5.92269920e-01   4.66144061e-07  -2.01519317e+00  -4.27171898e+00]\n",
      "[ -5.92269920e-01   4.66144061e-07  -2.01519317e+00  -4.27171898e+00]\n",
      "[ -5.92269920e-01   4.66144061e-07  -2.01519317e+00  -4.27171898e+00]\n",
      "[ -5.92269920e-01   4.66144061e-07  -2.01519317e+00  -4.27171898e+00]\n",
      "[-2.90548808  0.06005519 -3.65858408 -3.59830838]\n",
      "[-2.95135063  0.01445259 -3.67940281 -3.69800708]\n",
      "[-2.95135063  0.01445259 -3.67940281 -3.69800708]\n",
      "[ -2.96285687e+00   2.85751912e-03  -3.68458719e+00  -3.72283454e+00]\n",
      "[ -2.96285687e+00   2.85751912e-03  -3.68458719e+00  -3.72283454e+00]\n",
      "[ -2.96285687e+00   2.85751912e-03  -3.68458719e+00  -3.72283454e+00]\n",
      "[ -2.96429629e+00   1.40268129e-03  -3.68523467e+00  -3.72593525e+00]\n",
      "[ -2.96501609e+00   6.74808179e-04  -3.68555836e+00  -3.72748538e+00]\n",
      "[ -2.96537602e+00   3.10758093e-04  -3.68572020e+00  -3.72826038e+00]\n",
      "[ -2.96555598e+00   1.28704669e-04  -3.68580111e+00  -3.72864787e+00]\n",
      "[ -2.96564597e+00   3.76708619e-05  -3.68584157e+00  -3.72884161e+00]\n",
      "[ -2.96564597e+00   3.76708619e-05  -3.68584157e+00  -3.72884161e+00]\n",
      "[ -2.96566847e+00   1.49116711e-05  -3.68585168e+00  -3.72889005e+00]\n",
      "[ -2.96567972e+00   3.53196478e-06  -3.68585674e+00  -3.72891426e+00]\n"
     ]
    },
    {
     "data": {
      "image/png": "[encoded data removed]",
      "text/plain": [
       "<matplotlib.figure.Figure at 0x7f04d0791d90>"
      ]
     },
     "metadata": {},
     "output_type": "display_data"
    }
   ],
   "source": [
    "y1,z1=trayectoria([0,0,1,5],2)\n",
    "y2,z2=trayectoria([0,0,1,5],2,[0.5,[0,0],1,9.8])\n",
    "y3,z3=trayectoria([0,0,1,5],2,[0.5,[-3.5,0],1,9.8])\n",
    "plot(y1,z1,y2,z2,y3,z3)\n",
    "grid(True)\n",
    "show()"
   ]
  },
  {
   "cell_type": "code",
   "execution_count": null,
   "metadata": {
    "collapsed": true
   },
   "outputs": [],
   "source": []
  }
 ],
 "metadata": {
  "kernelspec": {
   "display_name": "Python [Root]",
   "language": "python",
   "name": "Python [Root]"
  },
  "language_info": {
   "codemirror_mode": {
    "name": "ipython",
    "version": 2
   },
   "file_extension": ".py",
   "mimetype": "text/x-python",
   "name": "python",
   "nbconvert_exporter": "python",
   "pygments_lexer": "ipython2",
   "version": "2.7.12"
  },
  "nbpresent": {
   "slides": {
    "03a441f1-276a-4513-a77e-87084abf94b6": {
     "id": "03a441f1-276a-4513-a77e-87084abf94b6",
     "prev": "d6435595-570c-449f-a8d5-04acb8bd8645",
     "regions": {
      "79557bf2-7e43-442e-b76e-5f8448c2d1bd": {
       "attrs": {
        "height": 0.8,
        "width": 0.8,
        "x": 0.1,
        "y": 0.1
       },
       "content": {
        "cell": "455941a4-d154-4395-b43d-e4cbc334982a",
        "part": "whole"
       },
       "id": "79557bf2-7e43-442e-b76e-5f8448c2d1bd"
      }
     }
    },
    "0d0a5dfb-b185-412f-8695-56e5ec31ca61": {
     "id": "0d0a5dfb-b185-412f-8695-56e5ec31ca61",
     "prev": null,
     "regions": {
      "1dde183f-2e87-4cd3-80a8-76a2031de54a": {
       "attrs": {
        "height": 0.8,
        "width": 0.8,
        "x": 0.1,
        "y": 0.1
       },
       "content": {
        "cell": "2520c24d-76b6-4b12-ab8a-3fd5f81ce035",
        "part": "whole"
       },
       "id": "1dde183f-2e87-4cd3-80a8-76a2031de54a"
      }
     },
     "theme": "ad4df495-7c0c-4c82-b80c-3976fa16c9f3"
    },
    "2804cff6-0e23-4ccd-851c-508cfd743782": {
     "id": "2804cff6-0e23-4ccd-851c-508cfd743782",
     "prev": "38142d16-cb3f-4873-9246-d8dd1d263313",
     "regions": {
      "96417631-45db-46ed-9884-5a88f08997fe": {
       "attrs": {
        "height": 0.8,
        "width": 0.8,
        "x": 0.1,
        "y": 0.1
       },
       "content": {
        "cell": "5ed12eb8-944f-4fae-a671-d5bc1bab11ed",
        "part": "whole"
       },
       "id": "96417631-45db-46ed-9884-5a88f08997fe"
      }
     }
    },
    "38142d16-cb3f-4873-9246-d8dd1d263313": {
     "id": "38142d16-cb3f-4873-9246-d8dd1d263313",
     "prev": "03a441f1-276a-4513-a77e-87084abf94b6",
     "regions": {
      "6484384e-a3a8-4a96-969d-7f85807ff3d3": {
       "attrs": {
        "height": 0.8,
        "width": 0.8,
        "x": 0.1,
        "y": 0.1
       },
       "content": {
        "cell": "3b460bd5-0d3c-43fe-b327-0dbdc654b7db",
        "part": "whole"
       },
       "id": "6484384e-a3a8-4a96-969d-7f85807ff3d3"
      }
     }
    },
    "65bc3007-55cc-481a-ae2a-8de2c7bb4005": {
     "id": "65bc3007-55cc-481a-ae2a-8de2c7bb4005",
     "prev": "2804cff6-0e23-4ccd-851c-508cfd743782",
     "regions": {
      "49124181-6ba1-4ec2-9735-f9b8adb50867": {
       "attrs": {
        "height": 0.8,
        "width": 0.8,
        "x": 0.1,
        "y": 0.1
       },
       "content": {
        "cell": "3e74a8ac-4d28-43ae-90a6-a516b22354e2",
        "part": "whole"
       },
       "id": "49124181-6ba1-4ec2-9735-f9b8adb50867"
      }
     }
    },
    "c5661cdf-17a0-4246-aa87-28553546b382": {
     "id": "c5661cdf-17a0-4246-aa87-28553546b382",
     "prev": "0d0a5dfb-b185-412f-8695-56e5ec31ca61",
     "regions": {
      "1c8ed81f-87c9-4daa-8e30-ded412a78bd8": {
       "attrs": {
        "height": 0.8,
        "width": 0.8,
        "x": 0.1,
        "y": 0.1
       },
       "content": {
        "cell": "826a08e0-c0b8-4120-a9ac-69eeca668b4e",
        "part": "whole"
       },
       "id": "1c8ed81f-87c9-4daa-8e30-ded412a78bd8"
      }
     }
    },
    "d6435595-570c-449f-a8d5-04acb8bd8645": {
     "id": "d6435595-570c-449f-a8d5-04acb8bd8645",
     "prev": "c5661cdf-17a0-4246-aa87-28553546b382",
     "regions": {
      "4c09abdb-cc5e-45b2-8b75-028508d9ce8c": {
       "attrs": {
        "height": 0.8,
        "width": 0.8,
        "x": 0.1,
        "y": 0.1
       },
       "content": {
        "cell": "66d023ad-c7e0-4642-9e01-7034737cfe6c",
        "part": "whole"
       },
       "id": "4c09abdb-cc5e-45b2-8b75-028508d9ce8c"
      }
     }
    }
   },
   "themes": {
    "default": "c3794deb-a09c-4b2e-a1a7-df1174db13a3",
    "theme": {
     "ad4df495-7c0c-4c82-b80c-3976fa16c9f3": {
      "id": "ad4df495-7c0c-4c82-b80c-3976fa16c9f3",
      "palette": {
       "19cc588f-0593-49c9-9f4b-e4d7cc113b1c": {
        "id": "19cc588f-0593-49c9-9f4b-e4d7cc113b1c",
        "rgb": [
         252,
         252,
         252
        ]
       },
       "31af15d2-7e15-44c5-ab5e-e04b16a89eff": {
        "id": "31af15d2-7e15-44c5-ab5e-e04b16a89eff",
        "rgb": [
         68,
         68,
         68
        ]
       },
       "50f92c45-a630-455b-aec3-788680ec7410": {
        "id": "50f92c45-a630-455b-aec3-788680ec7410",
        "rgb": [
         155,
         177,
         192
        ]
       },
       "c5cc3653-2ee1-402a-aba2-7caae1da4f6c": {
        "id": "c5cc3653-2ee1-402a-aba2-7caae1da4f6c",
        "rgb": [
         43,
         126,
         184
        ]
       },
       "efa7f048-9acb-414c-8b04-a26811511a21": {
        "id": "efa7f048-9acb-414c-8b04-a26811511a21",
        "rgb": [
         25.118061674008803,
         73.60176211453744,
         107.4819383259912
        ]
       }
      },
      "rules": {
       "blockquote": {
        "color": "50f92c45-a630-455b-aec3-788680ec7410"
       },
       "code": {
        "font-family": "Anonymous Pro"
       },
       "h1": {
        "color": "c5cc3653-2ee1-402a-aba2-7caae1da4f6c",
        "font-family": "Lato",
        "font-size": 8
       },
       "h2": {
        "color": "c5cc3653-2ee1-402a-aba2-7caae1da4f6c",
        "font-family": "Lato",
        "font-size": 6
       },
       "h3": {
        "color": "50f92c45-a630-455b-aec3-788680ec7410",
        "font-family": "Lato",
        "font-size": 5.5
       },
       "h4": {
        "color": "c5cc3653-2ee1-402a-aba2-7caae1da4f6c",
        "font-family": "Lato",
        "font-size": 5
       },
       "h5": {
        "font-family": "Lato"
       },
       "h6": {
        "font-family": "Lato"
       },
       "h7": {
        "font-family": "Lato"
       },
       "pre": {
        "font-family": "Anonymous Pro",
        "font-size": 4
       }
      },
      "text-base": {
       "font-family": "Merriweather",
       "font-size": 4
      }
     },
     "c3794deb-a09c-4b2e-a1a7-df1174db13a3": {
      "id": "c3794deb-a09c-4b2e-a1a7-df1174db13a3",
      "palette": {
       "19cc588f-0593-49c9-9f4b-e4d7cc113b1c": {
        "id": "19cc588f-0593-49c9-9f4b-e4d7cc113b1c",
        "rgb": [
         252,
         252,
         252
        ]
       },
       "31af15d2-7e15-44c5-ab5e-e04b16a89eff": {
        "id": "31af15d2-7e15-44c5-ab5e-e04b16a89eff",
        "rgb": [
         68,
         68,
         68
        ]
       },
       "50f92c45-a630-455b-aec3-788680ec7410": {
        "id": "50f92c45-a630-455b-aec3-788680ec7410",
        "rgb": [
         155,
         177,
         192
        ]
       },
       "c5cc3653-2ee1-402a-aba2-7caae1da4f6c": {
        "id": "c5cc3653-2ee1-402a-aba2-7caae1da4f6c",
        "rgb": [
         43,
         126,
         184
        ]
       },
       "efa7f048-9acb-414c-8b04-a26811511a21": {
        "id": "efa7f048-9acb-414c-8b04-a26811511a21",
        "rgb": [
         25.118061674008803,
         73.60176211453744,
         107.4819383259912
        ]
       }
      },
      "rules": {
       "blockquote": {
        "color": "50f92c45-a630-455b-aec3-788680ec7410"
       },
       "code": {
        "font-family": "Anonymous Pro"
       },
       "h1": {
        "color": "c5cc3653-2ee1-402a-aba2-7caae1da4f6c",
        "font-family": "Lato",
        "font-size": 8
       },
       "h2": {
        "color": "c5cc3653-2ee1-402a-aba2-7caae1da4f6c",
        "font-family": "Lato",
        "font-size": 6
       },
       "h3": {
        "color": "50f92c45-a630-455b-aec3-788680ec7410",
        "font-family": "Lato",
        "font-size": 5.5
       },
       "h4": {
        "color": "c5cc3653-2ee1-402a-aba2-7caae1da4f6c",
        "font-family": "Lato",
        "font-size": 5
       },
       "h5": {
        "font-family": "Lato"
       },
       "h6": {
        "font-family": "Lato"
       },
       "h7": {
        "font-family": "Lato"
       },
       "pre": {
        "font-family": "Anonymous Pro",
        "font-size": 4
       }
      },
      "text-base": {
       "font-family": "Merriweather",
       "font-size": 4
      }
     }
    }
   }
  }
 },
 "nbformat": 4,
 "nbformat_minor": 0
}
